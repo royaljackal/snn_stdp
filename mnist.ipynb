{
 "cells": [
  {
   "cell_type": "code",
   "execution_count": 1,
   "id": "02d3a17d",
   "metadata": {},
   "outputs": [],
   "source": [
    "import numpy as np\n",
    "from tensorflow.keras.datasets import mnist\n",
    "from sklearn.preprocessing import StandardScaler\n",
    "from stdp_snn import Classifier\n",
    "import time"
   ]
  },
  {
   "cell_type": "code",
   "execution_count": 2,
   "id": "1c80da66",
   "metadata": {},
   "outputs": [],
   "source": [
    "NUM_INPUT_NEURONS = 784  # 784 пикселя в MNIST\n",
    "NUM_OUTPUT_NEURONS = 10  # 10 кассов в MNIST"
   ]
  },
  {
   "cell_type": "code",
   "execution_count": 3,
   "id": "f9d37b3f",
   "metadata": {},
   "outputs": [],
   "source": [
    "(X_train, y_train), (X_test, y_test) = mnist.load_data()\n",
    "\n",
    "X_train = X_train / 255.0\n",
    "X_test = X_test / 255.0\n",
    "\n",
    "X_train = X_train.reshape(-1, 784)\n",
    "X_test = X_test.reshape(-1, 784)"
   ]
  },
  {
   "cell_type": "code",
   "execution_count": 4,
   "id": "0ea14689",
   "metadata": {},
   "outputs": [],
   "source": [
    "NUM_HIDDEN_NEURONS = [500, 150]\n",
    "\n",
    "TAU = 4  # Временная константа мембраны\n",
    "THRESHOLD = 10  # Порог срабатывания\n",
    "OUTPUT_THRESHOLD = 20\n",
    "\n",
    "BP_EPSILON = 2\n",
    "BP_LR = 0.0005"
   ]
  },
  {
   "cell_type": "code",
   "execution_count": 5,
   "id": "4cba061f",
   "metadata": {},
   "outputs": [],
   "source": [
    "classifier = Classifier(\"if\", \"bpstdp\", NUM_INPUT_NEURONS, NUM_HIDDEN_NEURONS, NUM_OUTPUT_NEURONS, tau=TAU, threshold=THRESHOLD, output_threshold=OUTPUT_THRESHOLD, \n",
    "                    bp_epsilon=BP_EPSILON, bp_lr=BP_LR)"
   ]
  },
  {
   "cell_type": "code",
   "execution_count": 6,
   "id": "e3a0c30a",
   "metadata": {},
   "outputs": [
    {
     "ename": "KeyboardInterrupt",
     "evalue": "",
     "output_type": "error",
     "traceback": [
      "\u001b[1;31m---------------------------------------------------------------------------\u001b[0m",
      "\u001b[1;31mKeyboardInterrupt\u001b[0m                         Traceback (most recent call last)",
      "Cell \u001b[1;32mIn[6], line 1\u001b[0m\n\u001b[1;32m----> 1\u001b[0m \u001b[43mclassifier\u001b[49m\u001b[38;5;241;43m.\u001b[39;49m\u001b[43mtrain\u001b[49m\u001b[43m(\u001b[49m\u001b[43mX_train\u001b[49m\u001b[43m,\u001b[49m\u001b[43m \u001b[49m\u001b[43my_train\u001b[49m\u001b[43m,\u001b[49m\u001b[43m \u001b[49m\u001b[38;5;241;43m15\u001b[39;49m\u001b[43m,\u001b[49m\u001b[43m \u001b[49m\u001b[43mshuffle_dataset\u001b[49m\u001b[38;5;241;43m=\u001b[39;49m\u001b[38;5;28;43;01mTrue\u001b[39;49;00m\u001b[43m)\u001b[49m\n",
      "File \u001b[1;32mf:\\Repos\\snn_stdp\\stdp_snn.py:82\u001b[0m, in \u001b[0;36mtrain\u001b[1;34m(self, X_train, y_train, epochs, shuffle_dataset, plot_history)\u001b[0m\n\u001b[0;32m     80\u001b[0m spike_count \u001b[38;5;241m=\u001b[39m \u001b[38;5;241m0\u001b[39m\n\u001b[0;32m     81\u001b[0m \u001b[38;5;28;01mfor\u001b[39;00m epoch \u001b[38;5;129;01min\u001b[39;00m \u001b[38;5;28mrange\u001b[39m(epochs):\n\u001b[1;32m---> 82\u001b[0m     \u001b[38;5;28mself\u001b[39m\u001b[38;5;241m.\u001b[39mclear_potential_history()\n\u001b[0;32m     83\u001b[0m     accuracy, epoch_operations, epoch_multiplications, epoch_spike_count \u001b[38;5;241m=\u001b[39m \u001b[38;5;28mself\u001b[39m\u001b[38;5;241m.\u001b[39mforward(X_train, y_train, epoch, \u001b[38;5;28;01mTrue\u001b[39;00m)\n\u001b[0;32m     84\u001b[0m     \u001b[38;5;28mprint\u001b[39m(\u001b[38;5;124mf\u001b[39m\u001b[38;5;124m\"\u001b[39m\u001b[38;5;124mEpoch: \u001b[39m\u001b[38;5;132;01m{\u001b[39;00mepoch\u001b[38;5;132;01m}\u001b[39;00m\u001b[38;5;124m; Accuracy: \u001b[39m\u001b[38;5;132;01m{\u001b[39;00maccuracy\u001b[38;5;132;01m}\u001b[39;00m\u001b[38;5;124m\"\u001b[39m)\n",
      "File \u001b[1;32mf:\\Repos\\snn_stdp\\stdp_snn.py:140\u001b[0m, in \u001b[0;36mforward\u001b[1;34m(self, X, y, use_stdp, print_per_sample)\u001b[0m\n\u001b[0;32m    136\u001b[0m for current_time_step in range(self.time_steps):\n\u001b[0;32m    137\u001b[0m     # Получаем входные спайки для этого временного шага\n\u001b[0;32m    138\u001b[0m     input_spikes = X_sample_spikes[:, current_time_step]\n\u001b[1;32m--> 140\u001b[0m     # Обновляем скрытые нейроны\n\u001b[0;32m    141\u001b[0m     for hidden_layer in self.hidden_layers:\n\u001b[0;32m    142\u001b[0m         hidden_spikes = np.zeros(len(hidden_layer))\n",
      "\u001b[1;31mKeyboardInterrupt\u001b[0m: "
     ]
    }
   ],
   "source": [
    "classifier.train(X_train, y_train, 15, shuffle_dataset=True)"
   ]
  },
  {
   "cell_type": "code",
   "execution_count": null,
   "id": "5f48a46e",
   "metadata": {},
   "outputs": [],
   "source": [
    "start = time.time()\n",
    "print(f\"Accuracy: {classifier.test(X_test, y_test, True, plot_history=True)}\")\n",
    "end = time.time()\n",
    "print(f\"Time elapsed: {end - start}\")"
   ]
  }
 ],
 "metadata": {
  "kernelspec": {
   "display_name": "Python 3",
   "language": "python",
   "name": "python3"
  },
  "language_info": {
   "codemirror_mode": {
    "name": "ipython",
    "version": 3
   },
   "file_extension": ".py",
   "mimetype": "text/x-python",
   "name": "python",
   "nbconvert_exporter": "python",
   "pygments_lexer": "ipython3",
   "version": "3.12.2"
  }
 },
 "nbformat": 4,
 "nbformat_minor": 5
}
